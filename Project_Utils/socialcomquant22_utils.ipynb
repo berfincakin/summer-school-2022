{
  "nbformat": 4,
  "nbformat_minor": 0,
  "metadata": {
    "colab": {
      "name": "socialcomquant22_utils.ipynb",
      "provenance": [],
      "collapsed_sections": [],
      "toc_visible": true
    },
    "kernelspec": {
      "name": "python3",
      "display_name": "Python 3"
    },
    "language_info": {
      "name": "python"
    },
    "widgets": {
      "application/vnd.jupyter.widget-state+json": {
        "c54cd4da5a81407f9cf377cc12ef91f2": {
          "model_module": "@jupyter-widgets/controls",
          "model_name": "HBoxModel",
          "model_module_version": "1.5.0",
          "state": {
            "_dom_classes": [],
            "_model_module": "@jupyter-widgets/controls",
            "_model_module_version": "1.5.0",
            "_model_name": "HBoxModel",
            "_view_count": null,
            "_view_module": "@jupyter-widgets/controls",
            "_view_module_version": "1.5.0",
            "_view_name": "HBoxView",
            "box_style": "",
            "children": [
              "IPY_MODEL_8a76bb6d809c432b91cbe5089df2bad7",
              "IPY_MODEL_e648c1d10f764283aa54d57cf0b078d2",
              "IPY_MODEL_27b0c09944d54e658d37f5824ac51ba7"
            ],
            "layout": "IPY_MODEL_dcec854eb2054bb79ca777851a68fbc9"
          }
        },
        "8a76bb6d809c432b91cbe5089df2bad7": {
          "model_module": "@jupyter-widgets/controls",
          "model_name": "HTMLModel",
          "model_module_version": "1.5.0",
          "state": {
            "_dom_classes": [],
            "_model_module": "@jupyter-widgets/controls",
            "_model_module_version": "1.5.0",
            "_model_name": "HTMLModel",
            "_view_count": null,
            "_view_module": "@jupyter-widgets/controls",
            "_view_module_version": "1.5.0",
            "_view_name": "HTMLView",
            "description": "",
            "description_tooltip": null,
            "layout": "IPY_MODEL_9f0442524e884cc9b2da0fa63a25d570",
            "placeholder": "​",
            "style": "IPY_MODEL_b3b8ba49c8fa45cc8885cb473c1a2518",
            "value": "100%"
          }
        },
        "e648c1d10f764283aa54d57cf0b078d2": {
          "model_module": "@jupyter-widgets/controls",
          "model_name": "FloatProgressModel",
          "model_module_version": "1.5.0",
          "state": {
            "_dom_classes": [],
            "_model_module": "@jupyter-widgets/controls",
            "_model_module_version": "1.5.0",
            "_model_name": "FloatProgressModel",
            "_view_count": null,
            "_view_module": "@jupyter-widgets/controls",
            "_view_module_version": "1.5.0",
            "_view_name": "ProgressView",
            "bar_style": "success",
            "description": "",
            "description_tooltip": null,
            "layout": "IPY_MODEL_341303b7affb4b8c9fac2ce5198722f1",
            "max": 31,
            "min": 0,
            "orientation": "horizontal",
            "style": "IPY_MODEL_4470a9a0232f46ed8b619f4be15657bc",
            "value": 31
          }
        },
        "27b0c09944d54e658d37f5824ac51ba7": {
          "model_module": "@jupyter-widgets/controls",
          "model_name": "HTMLModel",
          "model_module_version": "1.5.0",
          "state": {
            "_dom_classes": [],
            "_model_module": "@jupyter-widgets/controls",
            "_model_module_version": "1.5.0",
            "_model_name": "HTMLModel",
            "_view_count": null,
            "_view_module": "@jupyter-widgets/controls",
            "_view_module_version": "1.5.0",
            "_view_name": "HTMLView",
            "description": "",
            "description_tooltip": null,
            "layout": "IPY_MODEL_521b0a9808c44f5da2fc22907ff3168a",
            "placeholder": "​",
            "style": "IPY_MODEL_894e29fe67bf465f819cfbe5c48aab69",
            "value": " 31/31 [00:06&lt;00:00,  6.48it/s]"
          }
        },
        "dcec854eb2054bb79ca777851a68fbc9": {
          "model_module": "@jupyter-widgets/base",
          "model_name": "LayoutModel",
          "model_module_version": "1.2.0",
          "state": {
            "_model_module": "@jupyter-widgets/base",
            "_model_module_version": "1.2.0",
            "_model_name": "LayoutModel",
            "_view_count": null,
            "_view_module": "@jupyter-widgets/base",
            "_view_module_version": "1.2.0",
            "_view_name": "LayoutView",
            "align_content": null,
            "align_items": null,
            "align_self": null,
            "border": null,
            "bottom": null,
            "display": null,
            "flex": null,
            "flex_flow": null,
            "grid_area": null,
            "grid_auto_columns": null,
            "grid_auto_flow": null,
            "grid_auto_rows": null,
            "grid_column": null,
            "grid_gap": null,
            "grid_row": null,
            "grid_template_areas": null,
            "grid_template_columns": null,
            "grid_template_rows": null,
            "height": null,
            "justify_content": null,
            "justify_items": null,
            "left": null,
            "margin": null,
            "max_height": null,
            "max_width": null,
            "min_height": null,
            "min_width": null,
            "object_fit": null,
            "object_position": null,
            "order": null,
            "overflow": null,
            "overflow_x": null,
            "overflow_y": null,
            "padding": null,
            "right": null,
            "top": null,
            "visibility": null,
            "width": null
          }
        },
        "9f0442524e884cc9b2da0fa63a25d570": {
          "model_module": "@jupyter-widgets/base",
          "model_name": "LayoutModel",
          "model_module_version": "1.2.0",
          "state": {
            "_model_module": "@jupyter-widgets/base",
            "_model_module_version": "1.2.0",
            "_model_name": "LayoutModel",
            "_view_count": null,
            "_view_module": "@jupyter-widgets/base",
            "_view_module_version": "1.2.0",
            "_view_name": "LayoutView",
            "align_content": null,
            "align_items": null,
            "align_self": null,
            "border": null,
            "bottom": null,
            "display": null,
            "flex": null,
            "flex_flow": null,
            "grid_area": null,
            "grid_auto_columns": null,
            "grid_auto_flow": null,
            "grid_auto_rows": null,
            "grid_column": null,
            "grid_gap": null,
            "grid_row": null,
            "grid_template_areas": null,
            "grid_template_columns": null,
            "grid_template_rows": null,
            "height": null,
            "justify_content": null,
            "justify_items": null,
            "left": null,
            "margin": null,
            "max_height": null,
            "max_width": null,
            "min_height": null,
            "min_width": null,
            "object_fit": null,
            "object_position": null,
            "order": null,
            "overflow": null,
            "overflow_x": null,
            "overflow_y": null,
            "padding": null,
            "right": null,
            "top": null,
            "visibility": null,
            "width": null
          }
        },
        "b3b8ba49c8fa45cc8885cb473c1a2518": {
          "model_module": "@jupyter-widgets/controls",
          "model_name": "DescriptionStyleModel",
          "model_module_version": "1.5.0",
          "state": {
            "_model_module": "@jupyter-widgets/controls",
            "_model_module_version": "1.5.0",
            "_model_name": "DescriptionStyleModel",
            "_view_count": null,
            "_view_module": "@jupyter-widgets/base",
            "_view_module_version": "1.2.0",
            "_view_name": "StyleView",
            "description_width": ""
          }
        },
        "341303b7affb4b8c9fac2ce5198722f1": {
          "model_module": "@jupyter-widgets/base",
          "model_name": "LayoutModel",
          "model_module_version": "1.2.0",
          "state": {
            "_model_module": "@jupyter-widgets/base",
            "_model_module_version": "1.2.0",
            "_model_name": "LayoutModel",
            "_view_count": null,
            "_view_module": "@jupyter-widgets/base",
            "_view_module_version": "1.2.0",
            "_view_name": "LayoutView",
            "align_content": null,
            "align_items": null,
            "align_self": null,
            "border": null,
            "bottom": null,
            "display": null,
            "flex": null,
            "flex_flow": null,
            "grid_area": null,
            "grid_auto_columns": null,
            "grid_auto_flow": null,
            "grid_auto_rows": null,
            "grid_column": null,
            "grid_gap": null,
            "grid_row": null,
            "grid_template_areas": null,
            "grid_template_columns": null,
            "grid_template_rows": null,
            "height": null,
            "justify_content": null,
            "justify_items": null,
            "left": null,
            "margin": null,
            "max_height": null,
            "max_width": null,
            "min_height": null,
            "min_width": null,
            "object_fit": null,
            "object_position": null,
            "order": null,
            "overflow": null,
            "overflow_x": null,
            "overflow_y": null,
            "padding": null,
            "right": null,
            "top": null,
            "visibility": null,
            "width": null
          }
        },
        "4470a9a0232f46ed8b619f4be15657bc": {
          "model_module": "@jupyter-widgets/controls",
          "model_name": "ProgressStyleModel",
          "model_module_version": "1.5.0",
          "state": {
            "_model_module": "@jupyter-widgets/controls",
            "_model_module_version": "1.5.0",
            "_model_name": "ProgressStyleModel",
            "_view_count": null,
            "_view_module": "@jupyter-widgets/base",
            "_view_module_version": "1.2.0",
            "_view_name": "StyleView",
            "bar_color": null,
            "description_width": ""
          }
        },
        "521b0a9808c44f5da2fc22907ff3168a": {
          "model_module": "@jupyter-widgets/base",
          "model_name": "LayoutModel",
          "model_module_version": "1.2.0",
          "state": {
            "_model_module": "@jupyter-widgets/base",
            "_model_module_version": "1.2.0",
            "_model_name": "LayoutModel",
            "_view_count": null,
            "_view_module": "@jupyter-widgets/base",
            "_view_module_version": "1.2.0",
            "_view_name": "LayoutView",
            "align_content": null,
            "align_items": null,
            "align_self": null,
            "border": null,
            "bottom": null,
            "display": null,
            "flex": null,
            "flex_flow": null,
            "grid_area": null,
            "grid_auto_columns": null,
            "grid_auto_flow": null,
            "grid_auto_rows": null,
            "grid_column": null,
            "grid_gap": null,
            "grid_row": null,
            "grid_template_areas": null,
            "grid_template_columns": null,
            "grid_template_rows": null,
            "height": null,
            "justify_content": null,
            "justify_items": null,
            "left": null,
            "margin": null,
            "max_height": null,
            "max_width": null,
            "min_height": null,
            "min_width": null,
            "object_fit": null,
            "object_position": null,
            "order": null,
            "overflow": null,
            "overflow_x": null,
            "overflow_y": null,
            "padding": null,
            "right": null,
            "top": null,
            "visibility": null,
            "width": null
          }
        },
        "894e29fe67bf465f819cfbe5c48aab69": {
          "model_module": "@jupyter-widgets/controls",
          "model_name": "DescriptionStyleModel",
          "model_module_version": "1.5.0",
          "state": {
            "_model_module": "@jupyter-widgets/controls",
            "_model_module_version": "1.5.0",
            "_model_name": "DescriptionStyleModel",
            "_view_count": null,
            "_view_module": "@jupyter-widgets/base",
            "_view_module_version": "1.2.0",
            "_view_name": "StyleView",
            "description_width": ""
          }
        },
        "1bd9d674e2954dcabebac76a5356f00a": {
          "model_module": "@jupyter-widgets/controls",
          "model_name": "HBoxModel",
          "model_module_version": "1.5.0",
          "state": {
            "_dom_classes": [],
            "_model_module": "@jupyter-widgets/controls",
            "_model_module_version": "1.5.0",
            "_model_name": "HBoxModel",
            "_view_count": null,
            "_view_module": "@jupyter-widgets/controls",
            "_view_module_version": "1.5.0",
            "_view_name": "HBoxView",
            "box_style": "",
            "children": [
              "IPY_MODEL_21b7502045b341d4ae09f0cb02935a2b",
              "IPY_MODEL_da3c0e8049bb493f99ebeb9f7e89d84b",
              "IPY_MODEL_11755422de5347488b08216dfdd39515"
            ],
            "layout": "IPY_MODEL_13c508e37e1748d094b458a094a38ab0"
          }
        },
        "21b7502045b341d4ae09f0cb02935a2b": {
          "model_module": "@jupyter-widgets/controls",
          "model_name": "HTMLModel",
          "model_module_version": "1.5.0",
          "state": {
            "_dom_classes": [],
            "_model_module": "@jupyter-widgets/controls",
            "_model_module_version": "1.5.0",
            "_model_name": "HTMLModel",
            "_view_count": null,
            "_view_module": "@jupyter-widgets/controls",
            "_view_module_version": "1.5.0",
            "_view_name": "HTMLView",
            "description": "",
            "description_tooltip": null,
            "layout": "IPY_MODEL_32fdba86a1fd46ae9a5a0489cf7718ba",
            "placeholder": "​",
            "style": "IPY_MODEL_244405c13ed443649f0f2c0d5bfc7be8",
            "value": "100%"
          }
        },
        "da3c0e8049bb493f99ebeb9f7e89d84b": {
          "model_module": "@jupyter-widgets/controls",
          "model_name": "FloatProgressModel",
          "model_module_version": "1.5.0",
          "state": {
            "_dom_classes": [],
            "_model_module": "@jupyter-widgets/controls",
            "_model_module_version": "1.5.0",
            "_model_name": "FloatProgressModel",
            "_view_count": null,
            "_view_module": "@jupyter-widgets/controls",
            "_view_module_version": "1.5.0",
            "_view_name": "ProgressView",
            "bar_style": "success",
            "description": "",
            "description_tooltip": null,
            "layout": "IPY_MODEL_6dabeb13df6e40d686c42ac16190ac48",
            "max": 31,
            "min": 0,
            "orientation": "horizontal",
            "style": "IPY_MODEL_83f222ef9cc04fdea77182bb20bf3ad4",
            "value": 31
          }
        },
        "11755422de5347488b08216dfdd39515": {
          "model_module": "@jupyter-widgets/controls",
          "model_name": "HTMLModel",
          "model_module_version": "1.5.0",
          "state": {
            "_dom_classes": [],
            "_model_module": "@jupyter-widgets/controls",
            "_model_module_version": "1.5.0",
            "_model_name": "HTMLModel",
            "_view_count": null,
            "_view_module": "@jupyter-widgets/controls",
            "_view_module_version": "1.5.0",
            "_view_name": "HTMLView",
            "description": "",
            "description_tooltip": null,
            "layout": "IPY_MODEL_071603cc647142189f2c6d7ae6675ec1",
            "placeholder": "​",
            "style": "IPY_MODEL_78f0f737d21c47f2bb70d229a1bd1fa3",
            "value": " 31/31 [00:00&lt;00:00,  9.62it/s]"
          }
        },
        "13c508e37e1748d094b458a094a38ab0": {
          "model_module": "@jupyter-widgets/base",
          "model_name": "LayoutModel",
          "model_module_version": "1.2.0",
          "state": {
            "_model_module": "@jupyter-widgets/base",
            "_model_module_version": "1.2.0",
            "_model_name": "LayoutModel",
            "_view_count": null,
            "_view_module": "@jupyter-widgets/base",
            "_view_module_version": "1.2.0",
            "_view_name": "LayoutView",
            "align_content": null,
            "align_items": null,
            "align_self": null,
            "border": null,
            "bottom": null,
            "display": null,
            "flex": null,
            "flex_flow": null,
            "grid_area": null,
            "grid_auto_columns": null,
            "grid_auto_flow": null,
            "grid_auto_rows": null,
            "grid_column": null,
            "grid_gap": null,
            "grid_row": null,
            "grid_template_areas": null,
            "grid_template_columns": null,
            "grid_template_rows": null,
            "height": null,
            "justify_content": null,
            "justify_items": null,
            "left": null,
            "margin": null,
            "max_height": null,
            "max_width": null,
            "min_height": null,
            "min_width": null,
            "object_fit": null,
            "object_position": null,
            "order": null,
            "overflow": null,
            "overflow_x": null,
            "overflow_y": null,
            "padding": null,
            "right": null,
            "top": null,
            "visibility": null,
            "width": null
          }
        },
        "32fdba86a1fd46ae9a5a0489cf7718ba": {
          "model_module": "@jupyter-widgets/base",
          "model_name": "LayoutModel",
          "model_module_version": "1.2.0",
          "state": {
            "_model_module": "@jupyter-widgets/base",
            "_model_module_version": "1.2.0",
            "_model_name": "LayoutModel",
            "_view_count": null,
            "_view_module": "@jupyter-widgets/base",
            "_view_module_version": "1.2.0",
            "_view_name": "LayoutView",
            "align_content": null,
            "align_items": null,
            "align_self": null,
            "border": null,
            "bottom": null,
            "display": null,
            "flex": null,
            "flex_flow": null,
            "grid_area": null,
            "grid_auto_columns": null,
            "grid_auto_flow": null,
            "grid_auto_rows": null,
            "grid_column": null,
            "grid_gap": null,
            "grid_row": null,
            "grid_template_areas": null,
            "grid_template_columns": null,
            "grid_template_rows": null,
            "height": null,
            "justify_content": null,
            "justify_items": null,
            "left": null,
            "margin": null,
            "max_height": null,
            "max_width": null,
            "min_height": null,
            "min_width": null,
            "object_fit": null,
            "object_position": null,
            "order": null,
            "overflow": null,
            "overflow_x": null,
            "overflow_y": null,
            "padding": null,
            "right": null,
            "top": null,
            "visibility": null,
            "width": null
          }
        },
        "244405c13ed443649f0f2c0d5bfc7be8": {
          "model_module": "@jupyter-widgets/controls",
          "model_name": "DescriptionStyleModel",
          "model_module_version": "1.5.0",
          "state": {
            "_model_module": "@jupyter-widgets/controls",
            "_model_module_version": "1.5.0",
            "_model_name": "DescriptionStyleModel",
            "_view_count": null,
            "_view_module": "@jupyter-widgets/base",
            "_view_module_version": "1.2.0",
            "_view_name": "StyleView",
            "description_width": ""
          }
        },
        "6dabeb13df6e40d686c42ac16190ac48": {
          "model_module": "@jupyter-widgets/base",
          "model_name": "LayoutModel",
          "model_module_version": "1.2.0",
          "state": {
            "_model_module": "@jupyter-widgets/base",
            "_model_module_version": "1.2.0",
            "_model_name": "LayoutModel",
            "_view_count": null,
            "_view_module": "@jupyter-widgets/base",
            "_view_module_version": "1.2.0",
            "_view_name": "LayoutView",
            "align_content": null,
            "align_items": null,
            "align_self": null,
            "border": null,
            "bottom": null,
            "display": null,
            "flex": null,
            "flex_flow": null,
            "grid_area": null,
            "grid_auto_columns": null,
            "grid_auto_flow": null,
            "grid_auto_rows": null,
            "grid_column": null,
            "grid_gap": null,
            "grid_row": null,
            "grid_template_areas": null,
            "grid_template_columns": null,
            "grid_template_rows": null,
            "height": null,
            "justify_content": null,
            "justify_items": null,
            "left": null,
            "margin": null,
            "max_height": null,
            "max_width": null,
            "min_height": null,
            "min_width": null,
            "object_fit": null,
            "object_position": null,
            "order": null,
            "overflow": null,
            "overflow_x": null,
            "overflow_y": null,
            "padding": null,
            "right": null,
            "top": null,
            "visibility": null,
            "width": null
          }
        },
        "83f222ef9cc04fdea77182bb20bf3ad4": {
          "model_module": "@jupyter-widgets/controls",
          "model_name": "ProgressStyleModel",
          "model_module_version": "1.5.0",
          "state": {
            "_model_module": "@jupyter-widgets/controls",
            "_model_module_version": "1.5.0",
            "_model_name": "ProgressStyleModel",
            "_view_count": null,
            "_view_module": "@jupyter-widgets/base",
            "_view_module_version": "1.2.0",
            "_view_name": "StyleView",
            "bar_color": null,
            "description_width": ""
          }
        },
        "071603cc647142189f2c6d7ae6675ec1": {
          "model_module": "@jupyter-widgets/base",
          "model_name": "LayoutModel",
          "model_module_version": "1.2.0",
          "state": {
            "_model_module": "@jupyter-widgets/base",
            "_model_module_version": "1.2.0",
            "_model_name": "LayoutModel",
            "_view_count": null,
            "_view_module": "@jupyter-widgets/base",
            "_view_module_version": "1.2.0",
            "_view_name": "LayoutView",
            "align_content": null,
            "align_items": null,
            "align_self": null,
            "border": null,
            "bottom": null,
            "display": null,
            "flex": null,
            "flex_flow": null,
            "grid_area": null,
            "grid_auto_columns": null,
            "grid_auto_flow": null,
            "grid_auto_rows": null,
            "grid_column": null,
            "grid_gap": null,
            "grid_row": null,
            "grid_template_areas": null,
            "grid_template_columns": null,
            "grid_template_rows": null,
            "height": null,
            "justify_content": null,
            "justify_items": null,
            "left": null,
            "margin": null,
            "max_height": null,
            "max_width": null,
            "min_height": null,
            "min_width": null,
            "object_fit": null,
            "object_position": null,
            "order": null,
            "overflow": null,
            "overflow_x": null,
            "overflow_y": null,
            "padding": null,
            "right": null,
            "top": null,
            "visibility": null,
            "width": null
          }
        },
        "78f0f737d21c47f2bb70d229a1bd1fa3": {
          "model_module": "@jupyter-widgets/controls",
          "model_name": "DescriptionStyleModel",
          "model_module_version": "1.5.0",
          "state": {
            "_model_module": "@jupyter-widgets/controls",
            "_model_module_version": "1.5.0",
            "_model_name": "DescriptionStyleModel",
            "_view_count": null,
            "_view_module": "@jupyter-widgets/base",
            "_view_module_version": "1.2.0",
            "_view_name": "StyleView",
            "description_width": ""
          }
        }
      }
    }
  },
  "cells": [
    {
      "cell_type": "markdown",
      "source": [
        "## 2nd Summer School in Computational Social Sciences\n",
        "@KocUniversity\n",
        "\n",
        "> The util methods for the **text preprocessing step** here were written at the end of the first day of summer school and are simply prepared for you to quickly pick up and use in your project.\n",
        "\n",
        "> You are going to see the explanations then both the example outputs and the defined functions in this tutorial."
      ],
      "metadata": {
        "id": "kHkResskEmp_"
      }
    },
    {
      "cell_type": "markdown",
      "source": [
        "# Text Normalization and Preprocessing"
      ],
      "metadata": {
        "id": "B_O0YBVsddjM"
      }
    },
    {
      "cell_type": "markdown",
      "source": [
        "## Outline\n",
        "- Text Normalization and Preprocessing\n",
        "- Lower-Upper Case Transformation\n",
        "- Cleaning Mentions, Hashtags and Urls from Tweet Text\n",
        "- Replacing Emojis with Meaning\n",
        "- Removing Emojis\n",
        "- Removing Punctiations\n",
        "- Tokenization and Removing Stopwords\n",
        "- Stemmers (Porter and Snowball)\n",
        "- Pandas DataFrame Read-Write Data and ```progress_apply``` implementations"
      ],
      "metadata": {
        "id": "vu9Esf8qE0Q3"
      }
    },
    {
      "cell_type": "markdown",
      "source": [
        "## Lower-Upper Case Transformation"
      ],
      "metadata": {
        "id": "bUQbMrFEF-k-"
      }
    },
    {
      "cell_type": "code",
      "source": [
        "tweet_text = '''\n",
        "When BTC start bull run,🚀🚀🚀 \n",
        " \n",
        "#etherum will 2.88 X 3.275$ 🎯\n",
        "\n",
        "#dogecoin will 46X 3$ 🎯\n",
        "\n",
        "#shiba will 62X 0.0006$ 🎯\n",
        "\n",
        "#BabyDoge will 1.831X 0.000002$\n",
        "\n",
        "#kiba will 50.700X 0.3$🎯 🔥\n",
        "\n",
        "#CheemsInu  will 74.400X\n",
        "0.0000000001🎯🔥 \n",
        "\n",
        "#VOLT will 5.757X 0.005$🎯🔥 \n",
        "\n",
        "🔥🔥🔥🔥🔥🔥🔥🔥🔥🔥\n",
        "https://on.natgeo.com/3t0wzQy.\n",
        "'''"
      ],
      "metadata": {
        "id": "Z-PKRBd2NP0K"
      },
      "execution_count": 59,
      "outputs": []
    },
    {
      "cell_type": "code",
      "source": [
        "tweet_text = tweet_text.lower()\n",
        "\n",
        "# for upper-case transformation uncomment below line\n",
        "# tweet_text = tweet_text.upper()\n",
        "print(tweet_text)"
      ],
      "metadata": {
        "colab": {
          "base_uri": "https://localhost:8080/"
        },
        "id": "VRgewjgaNkR4",
        "outputId": "63ae3b4b-0fbe-414e-bbde-ed73c82fadc1"
      },
      "execution_count": 60,
      "outputs": [
        {
          "output_type": "stream",
          "name": "stdout",
          "text": [
            "\n",
            "when btc start bull run,🚀🚀🚀 \n",
            " \n",
            "#etherum will 2.88 x 3.275$ 🎯\n",
            "\n",
            "#dogecoin will 46x 3$ 🎯\n",
            "\n",
            "#shiba will 62x 0.0006$ 🎯\n",
            "\n",
            "#babydoge will 1.831x 0.000002$\n",
            "\n",
            "#kiba will 50.700x 0.3$🎯 🔥\n",
            "\n",
            "#cheemsinu  will 74.400x\n",
            "0.0000000001🎯🔥 \n",
            "\n",
            "#volt will 5.757x 0.005$🎯🔥 \n",
            "\n",
            "🔥🔥🔥🔥🔥🔥🔥🔥🔥🔥\n",
            "https://on.natgeo.com/3t0wzqy.\n",
            "\n"
          ]
        }
      ]
    },
    {
      "cell_type": "code",
      "source": [
        "tweet_text = tweet_text.replace('\\n', '')\n",
        "\n",
        "print(tweet_text)"
      ],
      "metadata": {
        "colab": {
          "base_uri": "https://localhost:8080/"
        },
        "id": "CQY3vAIaNvh8",
        "outputId": "a108ee82-87b6-4974-aa98-3e592e475b60"
      },
      "execution_count": 61,
      "outputs": [
        {
          "output_type": "stream",
          "name": "stdout",
          "text": [
            "when btc start bull run,🚀🚀🚀  #etherum will 2.88 x 3.275$ 🎯#dogecoin will 46x 3$ 🎯#shiba will 62x 0.0006$ 🎯#babydoge will 1.831x 0.000002$#kiba will 50.700x 0.3$🎯 🔥#cheemsinu  will 74.400x0.0000000001🎯🔥 #volt will 5.757x 0.005$🎯🔥 🔥🔥🔥🔥🔥🔥🔥🔥🔥🔥https://on.natgeo.com/3t0wzqy.\n"
          ]
        }
      ]
    },
    {
      "cell_type": "markdown",
      "source": [
        "## Cleaning Mentions, Hashtags and Urls from Tweet Text\n",
        "\n",
        "We make this text lowercased and remove the newline escape characters but it still has the Urls part and maybe in our analysis this url information is not needed.\n",
        "\n",
        "Regular Expressions has some ability to extract given pattern rules from the text and we simply use this library as below."
      ],
      "metadata": {
        "id": "87coZtNcOZtQ"
      }
    },
    {
      "cell_type": "code",
      "source": [
        "import re\n",
        "\n",
        "#removing mentions\n",
        "tweet_text = re.sub(\"@[A-Za-z0-9_]+\",\"\", tweet_text)\n",
        "\n",
        "#removing hastags\n",
        "tweet_text = re.sub(\"#[A-Za-z0-9_]+\",\"\", tweet_text)\n",
        "\n",
        "#removing urls which starts with http or www\n",
        "tweet_text = re.sub(r\"http\\S+\", \"\", tweet_text)\n",
        "tweet_text = re.sub(r\"www.\\S+\", \"\", tweet_text)"
      ],
      "metadata": {
        "id": "SzAsbxzsOZWi"
      },
      "execution_count": 66,
      "outputs": []
    },
    {
      "cell_type": "code",
      "source": [
        "tweet_text"
      ],
      "metadata": {
        "colab": {
          "base_uri": "https://localhost:8080/",
          "height": 53
        },
        "id": "3KVrL-ReO1rH",
        "outputId": "590edf24-0205-47cf-b2b7-11f1b374e18b"
      },
      "execution_count": 67,
      "outputs": [
        {
          "output_type": "execute_result",
          "data": {
            "text/plain": [
              "'when btc start bull run,🚀🚀🚀   will 2.88 x 3.275$ 🎯 will 46x 3$ 🎯 will 62x 0.0006$ 🎯 will 1.831x 0.000002$ will 50.700x 0.3$🎯 🔥  will 74.400x0.0000000001🎯🔥  will 5.757x 0.005$🎯🔥 🔥🔥🔥🔥🔥🔥🔥🔥🔥🔥'"
            ],
            "application/vnd.google.colaboratory.intrinsic+json": {
              "type": "string"
            }
          },
          "metadata": {},
          "execution_count": 67
        }
      ]
    },
    {
      "cell_type": "code",
      "source": [
        "def clean_tweet(tweet_text:str, mention:bool=True, hashtag:bool=True, urls:bool=True):\n",
        "  if mention:\n",
        "    tweet_text = re.sub(\"@[A-Za-z0-9_]+\",\"\", tweet_text)\n",
        "\n",
        "  if hashtag:\n",
        "    tweet_text = re.sub(\"#[A-Za-z0-9_]+\",\"\", tweet_text)\n",
        "\n",
        "  if urls:\n",
        "    tweet_text = re.sub(r\"http\\S+\", \"\", tweet_text)\n",
        "    tweet_text = re.sub(r\"www.\\S+\", \"\", tweet_text)\n",
        "  return tweet_text"
      ],
      "metadata": {
        "id": "2Ay2GyDjj111"
      },
      "execution_count": 183,
      "outputs": []
    },
    {
      "cell_type": "markdown",
      "source": [
        "## Replacing Emojis with Meaning"
      ],
      "metadata": {
        "id": "E-pabrqRKAM3"
      }
    },
    {
      "cell_type": "code",
      "source": [
        "!pip install emot"
      ],
      "metadata": {
        "colab": {
          "base_uri": "https://localhost:8080/"
        },
        "id": "5U9yTs6dIem6",
        "outputId": "35145fd2-6c7c-4f0d-a7b4-ed4e77b853fa"
      },
      "execution_count": 3,
      "outputs": [
        {
          "output_type": "stream",
          "name": "stdout",
          "text": [
            "Looking in indexes: https://pypi.org/simple, https://us-python.pkg.dev/colab-wheels/public/simple/\n",
            "Collecting emot\n",
            "  Downloading emot-3.1-py3-none-any.whl (61 kB)\n",
            "\u001b[K     |████████████████████████████████| 61 kB 18 kB/s \n",
            "\u001b[?25hInstalling collected packages: emot\n",
            "Successfully installed emot-3.1\n"
          ]
        }
      ]
    },
    {
      "cell_type": "code",
      "source": [
        "import emot"
      ],
      "metadata": {
        "id": "bSyVrxCrIjmV"
      },
      "execution_count": 4,
      "outputs": []
    },
    {
      "cell_type": "code",
      "source": [
        "emot_obj = emot.core.emot()"
      ],
      "metadata": {
        "id": "QZanfMltIu0J"
      },
      "execution_count": 5,
      "outputs": []
    },
    {
      "cell_type": "markdown",
      "source": [
        "> We have the text which include some emojis and we want to replace them with the meaning as text"
      ],
      "metadata": {
        "id": "ZqNC3PLnM5zZ"
      }
    },
    {
      "cell_type": "code",
      "source": [
        "text1 = 'Socialcomp: \"We absolutely ❤️ this summerschool. Thankyou 🙂\"'\n",
        "text2 = \"We love python ☮ 🙂 ❤ :-) :-( :-)))\" "
      ],
      "metadata": {
        "id": "NOAoo-rUE4il"
      },
      "execution_count": 39,
      "outputs": []
    },
    {
      "cell_type": "code",
      "execution_count": 21,
      "metadata": {
        "colab": {
          "base_uri": "https://localhost:8080/"
        },
        "id": "CCC4c1qhEeF5",
        "outputId": "fa46eae2-d37b-464d-bbeb-d6fc6f2ca8af"
      },
      "outputs": [
        {
          "output_type": "execute_result",
          "data": {
            "text/plain": [
              "{'flag': True,\n",
              " 'location': [[27, 28], [58, 59]],\n",
              " 'mean': [':red_heart:', ':slightly_smiling_face:'],\n",
              " 'value': ['❤', '🙂']}"
            ]
          },
          "metadata": {},
          "execution_count": 21
        }
      ],
      "source": [
        "emot_obj.emoji(text1) "
      ]
    },
    {
      "cell_type": "code",
      "source": [
        "emot_obj.emoji(text2) "
      ],
      "metadata": {
        "colab": {
          "base_uri": "https://localhost:8080/"
        },
        "id": "w86ON97xEqg1",
        "outputId": "c46e15d2-e506-47e4-b624-b70a74cd94b5"
      },
      "execution_count": 10,
      "outputs": [
        {
          "output_type": "execute_result",
          "data": {
            "text/plain": [
              "{'flag': True,\n",
              " 'location': [[15, 16], [17, 18], [19, 20]],\n",
              " 'mean': [':peace_symbol:', ':slightly_smiling_face:', ':red_heart:'],\n",
              " 'value': ['☮', '🙂', '❤']}"
            ]
          },
          "metadata": {},
          "execution_count": 10
        }
      ]
    },
    {
      "cell_type": "code",
      "source": [
        "means = emot_obj.emoji(text1)['mean']\n",
        "emos = emot_obj.emoji(text1)['value']"
      ],
      "metadata": {
        "id": "fGmqxl2YI3yY"
      },
      "execution_count": 18,
      "outputs": []
    },
    {
      "cell_type": "code",
      "source": [
        "for idx, mean in enumerate(means):\n",
        "  text1 = text1.replace(emos[idx], mean)\n",
        "print(text1)"
      ],
      "metadata": {
        "colab": {
          "base_uri": "https://localhost:8080/"
        },
        "id": "V-AqLd4dJA53",
        "outputId": "45910dcd-95c5-4e92-8d2a-97bf5ed6af0a"
      },
      "execution_count": 24,
      "outputs": [
        {
          "output_type": "stream",
          "name": "stdout",
          "text": [
            "Socialcomp: \"We absolutely :red_heart:️ this summerschool. Thankyou :slightly_smiling_face:\"\n"
          ]
        }
      ]
    },
    {
      "cell_type": "code",
      "source": [
        "def emo2text(text:str):\n",
        "  text = str(text) # in order to avoid getting error from NaN values upcase the variable\n",
        "  emot_obj = emot.core.emot()\n",
        "  emo_result = emot_obj.emoji(text) \n",
        "  if len(emo_result['mean']) > 0:\n",
        "    for idx, mean in enumerate(emo_result['mean']):\n",
        "      text = text.replace(emo_result['value'][idx], mean)\n",
        "  return text"
      ],
      "metadata": {
        "id": "q2-76auCJe4_"
      },
      "execution_count": 40,
      "outputs": []
    },
    {
      "cell_type": "code",
      "source": [
        "# test the result\n",
        "emo2text(text2)"
      ],
      "metadata": {
        "colab": {
          "base_uri": "https://localhost:8080/",
          "height": 36
        },
        "id": "ndMxNRb8JyCS",
        "outputId": "f5eeb297-038d-4f5a-8109-de329e70bb9f"
      },
      "execution_count": 41,
      "outputs": [
        {
          "output_type": "execute_result",
          "data": {
            "text/plain": [
              "'We love python :peace_symbol: :slightly_smiling_face: :red_heart: :-) :-( :-)))'"
            ],
            "application/vnd.google.colaboratory.intrinsic+json": {
              "type": "string"
            }
          },
          "metadata": {},
          "execution_count": 41
        }
      ]
    },
    {
      "cell_type": "markdown",
      "source": [
        "Let's apply this function to our tweet_text about Bitcoin"
      ],
      "metadata": {
        "id": "-7WAClqMPopi"
      }
    },
    {
      "cell_type": "code",
      "source": [
        "emo2text(tweet_text)"
      ],
      "metadata": {
        "colab": {
          "base_uri": "https://localhost:8080/",
          "height": 70
        },
        "id": "LcieXRItPkWQ",
        "outputId": "3da125b6-6456-430a-904c-64ae2dd3e20d"
      },
      "execution_count": 70,
      "outputs": [
        {
          "output_type": "execute_result",
          "data": {
            "text/plain": [
              "'when btc start bull run,:rocket::rocket::rocket:   will 2.88 x 3.275$ :bullseye: will 46x 3$ :bullseye: will 62x 0.0006$ :bullseye: will 1.831x 0.000002$ will 50.700x 0.3$:bullseye: :fire:  will 74.400x0.0000000001:bullseye::fire:  will 5.757x 0.005$:bullseye::fire: :fire::fire::fire::fire::fire::fire::fire::fire::fire::fire:'"
            ],
            "application/vnd.google.colaboratory.intrinsic+json": {
              "type": "string"
            }
          },
          "metadata": {},
          "execution_count": 70
        }
      ]
    },
    {
      "cell_type": "markdown",
      "source": [
        "## Removing Emojis\n",
        "\n",
        "It is also possible to remove the emojis with the given function below"
      ],
      "metadata": {
        "id": "rx6TJiLmMcG8"
      }
    },
    {
      "cell_type": "code",
      "source": [
        "def remove_emo(text):\n",
        "  text = str(text) # in order to avoid getting error from NaN values upcase the variable\n",
        "  emot_obj = emot.core.emot()\n",
        "  emo_result = emot_obj.emoji(text) \n",
        "  if len(emo_result['value']) > 0:\n",
        "    for idx, emo in enumerate(emo_result['value']):\n",
        "      text = text.replace(emo, '') # replace with empty string\n",
        "  text = text.strip()\n",
        "  return text"
      ],
      "metadata": {
        "id": "QQfJUzMkLV5l"
      },
      "execution_count": 72,
      "outputs": []
    },
    {
      "cell_type": "code",
      "source": [
        "remove_emo(text1)"
      ],
      "metadata": {
        "colab": {
          "base_uri": "https://localhost:8080/",
          "height": 36
        },
        "id": "UdM0zOd_Mdxw",
        "outputId": "1d4a79b7-65ed-4ad2-8efa-ea5f20c4bada"
      },
      "execution_count": 43,
      "outputs": [
        {
          "output_type": "execute_result",
          "data": {
            "text/plain": [
              "'Socialcomp: \"We absolutely ️ this summerschool. Thankyou \"'"
            ],
            "application/vnd.google.colaboratory.intrinsic+json": {
              "type": "string"
            }
          },
          "metadata": {},
          "execution_count": 43
        }
      ]
    },
    {
      "cell_type": "code",
      "source": [
        "remove_emo(tweet_text)"
      ],
      "metadata": {
        "colab": {
          "base_uri": "https://localhost:8080/",
          "height": 53
        },
        "id": "92oXZQ7oMfgR",
        "outputId": "482dccbd-0115-4161-da8f-47f6bdcd519a"
      },
      "execution_count": 71,
      "outputs": [
        {
          "output_type": "execute_result",
          "data": {
            "text/plain": [
              "'when btc start bull run,   will 2.88 x 3.275$  will 46x 3$  will 62x 0.0006$  will 1.831x 0.000002$ will 50.700x 0.3$   will 74.400x0.0000000001  will 5.757x 0.005$ '"
            ],
            "application/vnd.google.colaboratory.intrinsic+json": {
              "type": "string"
            }
          },
          "metadata": {},
          "execution_count": 71
        }
      ]
    },
    {
      "cell_type": "markdown",
      "source": [
        "## Removing Punctiations"
      ],
      "metadata": {
        "id": "KAnDX_CAT-Y1"
      }
    },
    {
      "cell_type": "code",
      "source": [
        "import re\n",
        "import string"
      ],
      "metadata": {
        "id": "mrnMyV2aQGks"
      },
      "execution_count": 95,
      "outputs": []
    },
    {
      "cell_type": "code",
      "source": [
        "print(string.punctuation)"
      ],
      "metadata": {
        "colab": {
          "base_uri": "https://localhost:8080/"
        },
        "id": "b4wxtRbCV-s9",
        "outputId": "83bf852f-b6ed-4058-9814-064fe5e0d25e"
      },
      "execution_count": 96,
      "outputs": [
        {
          "output_type": "stream",
          "name": "stdout",
          "text": [
            "!\"#$%&'()*+,-./:;<=>?@[\\]^_`{|}~\n"
          ]
        }
      ]
    },
    {
      "cell_type": "markdown",
      "source": [
        "We can give a part of pucntiations as string to remove as we want"
      ],
      "metadata": {
        "id": "bkSj-79pVJj2"
      }
    },
    {
      "cell_type": "code",
      "source": [
        "punct_text = \"this's aweosome!! isn't it ?**\"\n",
        "punct_text = re.sub(\"[()*!']\", '', punct_text)\n",
        "print(punct_text)"
      ],
      "metadata": {
        "colab": {
          "base_uri": "https://localhost:8080/"
        },
        "id": "wJNUtLLZUMTh",
        "outputId": "ed0c41e1-93e2-42cc-a05c-802cd831ef5c"
      },
      "execution_count": 83,
      "outputs": [
        {
          "output_type": "stream",
          "name": "stdout",
          "text": [
            "thiss aweosome isnt it ?\n"
          ]
        }
      ]
    },
    {
      "cell_type": "markdown",
      "source": [
        "## Tokenization and Removing Stopwords"
      ],
      "metadata": {
        "id": "rtrPbAn_WYmF"
      }
    },
    {
      "cell_type": "code",
      "source": [
        "import nltk\n",
        "from nltk.corpus import stopwords\n",
        "\n",
        "from nltk.tokenize import word_tokenize\n",
        "\n",
        "nltk.download('stopwords') #make sure stopwords data is downloaded\n",
        "nltk.download('punkt')"
      ],
      "metadata": {
        "colab": {
          "base_uri": "https://localhost:8080/"
        },
        "id": "iUf1Us2WWtEe",
        "outputId": "5ab3f092-55c1-49df-ea19-b35c7c8e8d64"
      },
      "execution_count": 120,
      "outputs": [
        {
          "output_type": "stream",
          "name": "stderr",
          "text": [
            "[nltk_data] Downloading package stopwords to /root/nltk_data...\n",
            "[nltk_data]   Package stopwords is already up-to-date!\n",
            "[nltk_data] Downloading package punkt to /root/nltk_data...\n",
            "[nltk_data]   Unzipping tokenizers/punkt.zip.\n"
          ]
        },
        {
          "output_type": "execute_result",
          "data": {
            "text/plain": [
              "True"
            ]
          },
          "metadata": {},
          "execution_count": 120
        }
      ]
    },
    {
      "cell_type": "code",
      "source": [
        "long_text = 'Natural language processing (NLP) is a subfield of linguistics, computer science, and artificial intelligence concerned with the interactions between computers and human language, in particular how to program computers to process and analyze large amounts of natural language data.'"
      ],
      "metadata": {
        "id": "Zpz9BdxnWgJC"
      },
      "execution_count": 107,
      "outputs": []
    },
    {
      "cell_type": "code",
      "source": [
        "print(stopwords.words('english'))"
      ],
      "metadata": {
        "colab": {
          "base_uri": "https://localhost:8080/"
        },
        "id": "fdHLTCMFWpHa",
        "outputId": "7e792ce4-40c4-4b4f-a302-31e046e664bc"
      },
      "execution_count": 108,
      "outputs": [
        {
          "output_type": "stream",
          "name": "stdout",
          "text": [
            "['i', 'me', 'my', 'myself', 'we', 'our', 'ours', 'ourselves', 'you', \"you're\", \"you've\", \"you'll\", \"you'd\", 'your', 'yours', 'yourself', 'yourselves', 'he', 'him', 'his', 'himself', 'she', \"she's\", 'her', 'hers', 'herself', 'it', \"it's\", 'its', 'itself', 'they', 'them', 'their', 'theirs', 'themselves', 'what', 'which', 'who', 'whom', 'this', 'that', \"that'll\", 'these', 'those', 'am', 'is', 'are', 'was', 'were', 'be', 'been', 'being', 'have', 'has', 'had', 'having', 'do', 'does', 'did', 'doing', 'a', 'an', 'the', 'and', 'but', 'if', 'or', 'because', 'as', 'until', 'while', 'of', 'at', 'by', 'for', 'with', 'about', 'against', 'between', 'into', 'through', 'during', 'before', 'after', 'above', 'below', 'to', 'from', 'up', 'down', 'in', 'out', 'on', 'off', 'over', 'under', 'again', 'further', 'then', 'once', 'here', 'there', 'when', 'where', 'why', 'how', 'all', 'any', 'both', 'each', 'few', 'more', 'most', 'other', 'some', 'such', 'no', 'nor', 'not', 'only', 'own', 'same', 'so', 'than', 'too', 'very', 's', 't', 'can', 'will', 'just', 'don', \"don't\", 'should', \"should've\", 'now', 'd', 'll', 'm', 'o', 're', 've', 'y', 'ain', 'aren', \"aren't\", 'couldn', \"couldn't\", 'didn', \"didn't\", 'doesn', \"doesn't\", 'hadn', \"hadn't\", 'hasn', \"hasn't\", 'haven', \"haven't\", 'isn', \"isn't\", 'ma', 'mightn', \"mightn't\", 'mustn', \"mustn't\", 'needn', \"needn't\", 'shan', \"shan't\", 'shouldn', \"shouldn't\", 'wasn', \"wasn't\", 'weren', \"weren't\", 'won', \"won't\", 'wouldn', \"wouldn't\"]\n"
          ]
        }
      ]
    },
    {
      "cell_type": "code",
      "source": [
        "print(stopwords.words('turkish'))"
      ],
      "metadata": {
        "colab": {
          "base_uri": "https://localhost:8080/"
        },
        "id": "uHCESdMsZCcP",
        "outputId": "c9077013-00b8-443d-b235-9b072e627b06"
      },
      "execution_count": 109,
      "outputs": [
        {
          "output_type": "stream",
          "name": "stdout",
          "text": [
            "['acaba', 'ama', 'aslında', 'az', 'bazı', 'belki', 'biri', 'birkaç', 'birşey', 'biz', 'bu', 'çok', 'çünkü', 'da', 'daha', 'de', 'defa', 'diye', 'eğer', 'en', 'gibi', 'hem', 'hep', 'hepsi', 'her', 'hiç', 'için', 'ile', 'ise', 'kez', 'ki', 'kim', 'mı', 'mu', 'mü', 'nasıl', 'ne', 'neden', 'nerde', 'nerede', 'nereye', 'niçin', 'niye', 'o', 'sanki', 'şey', 'siz', 'şu', 'tüm', 've', 'veya', 'ya', 'yani']\n"
          ]
        }
      ]
    },
    {
      "cell_type": "markdown",
      "source": [
        "If you want to add a new word to that list use simply append method"
      ],
      "metadata": {
        "id": "S53zAKLzZJhE"
      }
    },
    {
      "cell_type": "code",
      "source": [
        "stopword_list = stopwords.words('english')"
      ],
      "metadata": {
        "id": "gjozOG5PZFoq"
      },
      "execution_count": 113,
      "outputs": []
    },
    {
      "cell_type": "code",
      "source": [
        "stopword_list.append('new_word')"
      ],
      "metadata": {
        "id": "hPI0KKkbZSv1"
      },
      "execution_count": 114,
      "outputs": []
    },
    {
      "cell_type": "code",
      "source": [
        "stopword_list[-10:] # last 10 stopwords to show we append our new_word token"
      ],
      "metadata": {
        "colab": {
          "base_uri": "https://localhost:8080/"
        },
        "id": "so5Rpq9_ZgCt",
        "outputId": "18dc1688-5a52-4fb7-cc13-39f79367ec89"
      },
      "execution_count": 117,
      "outputs": [
        {
          "output_type": "execute_result",
          "data": {
            "text/plain": [
              "[\"shouldn't\",\n",
              " 'wasn',\n",
              " \"wasn't\",\n",
              " 'weren',\n",
              " \"weren't\",\n",
              " 'won',\n",
              " \"won't\",\n",
              " 'wouldn',\n",
              " \"wouldn't\",\n",
              " 'new_word']"
            ]
          },
          "metadata": {},
          "execution_count": 117
        }
      ]
    },
    {
      "cell_type": "code",
      "source": [
        "word_tokens = word_tokenize(long_text.lower())"
      ],
      "metadata": {
        "id": "H62qkiR-aMA_"
      },
      "execution_count": 123,
      "outputs": []
    },
    {
      "cell_type": "code",
      "source": [
        "word_tokens"
      ],
      "metadata": {
        "colab": {
          "base_uri": "https://localhost:8080/"
        },
        "id": "LRArao-3aW4i",
        "outputId": "fb4222a2-c4b5-4dd4-a22f-16298b77714f"
      },
      "execution_count": 124,
      "outputs": [
        {
          "output_type": "execute_result",
          "data": {
            "text/plain": [
              "['natural',\n",
              " 'language',\n",
              " 'processing',\n",
              " '(',\n",
              " 'nlp',\n",
              " ')',\n",
              " 'is',\n",
              " 'a',\n",
              " 'subfield',\n",
              " 'of',\n",
              " 'linguistics',\n",
              " ',',\n",
              " 'computer',\n",
              " 'science',\n",
              " ',',\n",
              " 'and',\n",
              " 'artificial',\n",
              " 'intelligence',\n",
              " 'concerned',\n",
              " 'with',\n",
              " 'the',\n",
              " 'interactions',\n",
              " 'between',\n",
              " 'computers',\n",
              " 'and',\n",
              " 'human',\n",
              " 'language',\n",
              " ',',\n",
              " 'in',\n",
              " 'particular',\n",
              " 'how',\n",
              " 'to',\n",
              " 'program',\n",
              " 'computers',\n",
              " 'to',\n",
              " 'process',\n",
              " 'and',\n",
              " 'analyze',\n",
              " 'large',\n",
              " 'amounts',\n",
              " 'of',\n",
              " 'natural',\n",
              " 'language',\n",
              " 'data',\n",
              " '.']"
            ]
          },
          "metadata": {},
          "execution_count": 124
        }
      ]
    },
    {
      "cell_type": "code",
      "source": [
        "def remove_words(tokens:list, stopwords:list):\n",
        "  filtered_tokens = list()\n",
        "  for token in tokens:\n",
        "    if token in stopwords:\n",
        "      continue\n",
        "    else:\n",
        "      filtered_tokens.append(token)\n",
        "  return filtered_tokens"
      ],
      "metadata": {
        "id": "_2xLCh7-WaP2"
      },
      "execution_count": 125,
      "outputs": []
    },
    {
      "cell_type": "code",
      "source": [
        "remove_words(word_tokens, stopword_list)"
      ],
      "metadata": {
        "colab": {
          "base_uri": "https://localhost:8080/"
        },
        "id": "OgL39hExa5lJ",
        "outputId": "edb800db-43c8-40a9-98ff-e4fc751a4b9a"
      },
      "execution_count": 126,
      "outputs": [
        {
          "output_type": "execute_result",
          "data": {
            "text/plain": [
              "['natural',\n",
              " 'language',\n",
              " 'processing',\n",
              " '(',\n",
              " 'nlp',\n",
              " ')',\n",
              " 'subfield',\n",
              " 'linguistics',\n",
              " ',',\n",
              " 'computer',\n",
              " 'science',\n",
              " ',',\n",
              " 'artificial',\n",
              " 'intelligence',\n",
              " 'concerned',\n",
              " 'interactions',\n",
              " 'computers',\n",
              " 'human',\n",
              " 'language',\n",
              " ',',\n",
              " 'particular',\n",
              " 'program',\n",
              " 'computers',\n",
              " 'process',\n",
              " 'analyze',\n",
              " 'large',\n",
              " 'amounts',\n",
              " 'natural',\n",
              " 'language',\n",
              " 'data',\n",
              " '.']"
            ]
          },
          "metadata": {},
          "execution_count": 126
        }
      ]
    },
    {
      "cell_type": "markdown",
      "source": [
        "## Stemmers (Porter and Snowball)\n",
        "\n",
        "Stemmers remove morphological affixes from words, leaving only the word stem.\n",
        "> [NLTK How to Stem](https://www.nltk.org/howto/stem.html)\n",
        "\n",
        "> We have two kind of stemmers **Porter** and **Snowball**\n",
        "> In Snowball the following languages can be stemmed; however for some tasks such as sentiment analysis, using stemmer is lower your precision because it remove the suffix part of the the words.\n",
        "\n",
        "- arabic danish dutch english finnish french german hungarian italian norwegian porter portuguese romanian russian spanish swedish"
      ],
      "metadata": {
        "id": "poZ0VPl2bS0k"
      }
    },
    {
      "cell_type": "code",
      "source": [
        "from nltk.stem import *"
      ],
      "metadata": {
        "id": "IFzitdDFbADM"
      },
      "execution_count": 127,
      "outputs": []
    },
    {
      "cell_type": "code",
      "source": [
        "stemmer = PorterStemmer()"
      ],
      "metadata": {
        "id": "mjPHc6F7bU_P"
      },
      "execution_count": 128,
      "outputs": []
    },
    {
      "cell_type": "code",
      "source": [
        "plurals = ['caresses', 'flies', 'dies', 'mules', 'denied',\n",
        "            'died', 'agreed', 'owned', 'humbled', 'sized',\n",
        "            'meeting', 'stating', 'siezing', 'itemization',\n",
        "            'sensational', 'traditional', 'reference', 'colonizer',\n",
        "            'plotted']"
      ],
      "metadata": {
        "id": "Mt-EtrgrbXZ7"
      },
      "execution_count": 129,
      "outputs": []
    },
    {
      "cell_type": "code",
      "source": [
        "singles = [stemmer.stem(plural) for plural in plurals]"
      ],
      "metadata": {
        "id": "UMjz0cR1bcLM"
      },
      "execution_count": 131,
      "outputs": []
    },
    {
      "cell_type": "code",
      "source": [
        "singles"
      ],
      "metadata": {
        "colab": {
          "base_uri": "https://localhost:8080/"
        },
        "id": "Z73nzdb2beWb",
        "outputId": "e24dc0c0-dac5-466d-819b-27c907dcc1b6"
      },
      "execution_count": 132,
      "outputs": [
        {
          "output_type": "execute_result",
          "data": {
            "text/plain": [
              "['caress',\n",
              " 'fli',\n",
              " 'die',\n",
              " 'mule',\n",
              " 'deni',\n",
              " 'die',\n",
              " 'agre',\n",
              " 'own',\n",
              " 'humbl',\n",
              " 'size',\n",
              " 'meet',\n",
              " 'state',\n",
              " 'siez',\n",
              " 'item',\n",
              " 'sensat',\n",
              " 'tradit',\n",
              " 'refer',\n",
              " 'colon',\n",
              " 'plot']"
            ]
          },
          "metadata": {},
          "execution_count": 132
        }
      ]
    },
    {
      "cell_type": "code",
      "source": [
        "from nltk.stem.snowball import SnowballStemmer"
      ],
      "metadata": {
        "id": "VcLQIMBjbioL"
      },
      "execution_count": 133,
      "outputs": []
    },
    {
      "cell_type": "code",
      "source": [
        "stemmer = SnowballStemmer(\"english\")"
      ],
      "metadata": {
        "id": "WCGuzo48cw9x"
      },
      "execution_count": 136,
      "outputs": []
    },
    {
      "cell_type": "code",
      "source": [
        "print(stemmer.stem(\"running\"))"
      ],
      "metadata": {
        "colab": {
          "base_uri": "https://localhost:8080/"
        },
        "id": "u0OhApUDcAoW",
        "outputId": "3bac8d0d-5d46-4cad-b592-5c0ebd5af699"
      },
      "execution_count": 137,
      "outputs": [
        {
          "output_type": "stream",
          "name": "stdout",
          "text": [
            "run\n"
          ]
        }
      ]
    },
    {
      "cell_type": "markdown",
      "source": [
        "Ignoring the stopwords to not stemming"
      ],
      "metadata": {
        "id": "uzJWL14Dcyt6"
      }
    },
    {
      "cell_type": "code",
      "source": [
        "stemmer2 = SnowballStemmer(\"english\", ignore_stopwords=True)\n",
        "print(stemmer2.stem(\"having\"))"
      ],
      "metadata": {
        "colab": {
          "base_uri": "https://localhost:8080/"
        },
        "id": "-bwL3vY1cDex",
        "outputId": "16531e56-710e-49ad-f5ee-8f9d6d51b0b0"
      },
      "execution_count": 138,
      "outputs": [
        {
          "output_type": "stream",
          "name": "stdout",
          "text": [
            "having\n"
          ]
        }
      ]
    },
    {
      "cell_type": "code",
      "source": [
        ""
      ],
      "metadata": {
        "id": "YiFF_EJzc7UT"
      },
      "execution_count": null,
      "outputs": []
    },
    {
      "cell_type": "markdown",
      "source": [
        "## Pandas DataFrame Read-Write Data and ```progress_apply``` implementations\n",
        "\n"
      ],
      "metadata": {
        "id": "fjAGKOeDd_dP"
      }
    },
    {
      "cell_type": "markdown",
      "source": [
        "> This functions can be extended by the participant as well but at the last, we probably need to use this functions with pandas DataFrame. Let's see some example how to use this methods effectively on DataFrame"
      ],
      "metadata": {
        "id": "htqn53N9dnLv"
      }
    },
    {
      "cell_type": "code",
      "source": [
        "import pandas as pd\n",
        "from tqdm.auto import tqdm # to see progress bar on notebook\n",
        "tqdm.pandas()"
      ],
      "metadata": {
        "id": "gYu4sg-WeKF7"
      },
      "execution_count": 139,
      "outputs": []
    },
    {
      "cell_type": "markdown",
      "source": [
        "## Read the data from tsv\n",
        "\n",
        "1.   Choose the seperator parameter ```sep='\\t'``` in order the read tab separated file properly\n",
        "2.   If there any line doesnt match with the expected number of column, just pass them with ```error_bad_lines=False``` parameter, the passed lines will be reported under the output to check them if you want.\n",
        "\n"
      ],
      "metadata": {
        "id": "ZfUccZ4CgmFH"
      }
    },
    {
      "cell_type": "code",
      "source": [
        "df = pd.read_csv('test.tsv',sep='\\t', header=None)"
      ],
      "metadata": {
        "id": "bD4yBT2deUpe"
      },
      "execution_count": 169,
      "outputs": []
    },
    {
      "cell_type": "code",
      "source": [
        "df.head(3)"
      ],
      "metadata": {
        "colab": {
          "base_uri": "https://localhost:8080/",
          "height": 497
        },
        "id": "6hJTk2NIgTpA",
        "outputId": "cedd8e24-75ef-40b8-cb00-9e9b321f75df"
      },
      "execution_count": 160,
      "outputs": [
        {
          "output_type": "execute_result",
          "data": {
            "text/plain": [
              "                                                  0                    1   \\\n",
              "0  “Russian troops handed control of the Chernoby...  1509716281867571203   \n",
              "1  The last picture of a happy couple Anton &amp;...  1509933994900660251   \n",
              "2  ⚡️ Energoatom: Russian occupiers leaving Chorn...  1509759842898128912   \n",
              "\n",
              "                               2     3      4      5      6   7   8     9   \\\n",
              "0  Fri Apr 01 02:16:25 +0000 2022  None  False  False  False   0   0  None   \n",
              "1  Fri Apr 01 16:41:32 +0000 2022  None  False  False  False   0   0  None   \n",
              "2  Fri Apr 01 05:09:31 +0000 2022  None  False  False  False   0   0  None   \n",
              "\n",
              "   ...             18     19     20      21 22     23  \\\n",
              "0  ...      jdpaustin  17514  18814  134152  8  84593   \n",
              "1  ...    PerFeldvoss    195   1917   61140  1  10931   \n",
              "2  ...  KeithWaddell5    108    393   12382  5  19949   \n",
              "\n",
              "                                                  24  \\\n",
              "0  Christian,Family,Vet,6th genTexan, rancher, at...   \n",
              "1                                               None   \n",
              "2  Educationalist. Opinions are personal and my o...   \n",
              "\n",
              "                          25                              26    27  \n",
              "0  Austin - Giddings, Texas.  Thu Jul 19 20:30:00 +0000 2012  None  \n",
              "1                    Denmark  Wed Jan 28 18:12:03 +0000 2015  None  \n",
              "2             Lusaka, Zambia  Sat Aug 20 13:28:37 +0000 2016  None  \n",
              "\n",
              "[3 rows x 28 columns]"
            ],
            "text/html": [
              "\n",
              "  <div id=\"df-724a14cc-c0d5-476b-84b7-6ed709ae5502\">\n",
              "    <div class=\"colab-df-container\">\n",
              "      <div>\n",
              "<style scoped>\n",
              "    .dataframe tbody tr th:only-of-type {\n",
              "        vertical-align: middle;\n",
              "    }\n",
              "\n",
              "    .dataframe tbody tr th {\n",
              "        vertical-align: top;\n",
              "    }\n",
              "\n",
              "    .dataframe thead th {\n",
              "        text-align: right;\n",
              "    }\n",
              "</style>\n",
              "<table border=\"1\" class=\"dataframe\">\n",
              "  <thead>\n",
              "    <tr style=\"text-align: right;\">\n",
              "      <th></th>\n",
              "      <th>0</th>\n",
              "      <th>1</th>\n",
              "      <th>2</th>\n",
              "      <th>3</th>\n",
              "      <th>4</th>\n",
              "      <th>5</th>\n",
              "      <th>6</th>\n",
              "      <th>7</th>\n",
              "      <th>8</th>\n",
              "      <th>9</th>\n",
              "      <th>...</th>\n",
              "      <th>18</th>\n",
              "      <th>19</th>\n",
              "      <th>20</th>\n",
              "      <th>21</th>\n",
              "      <th>22</th>\n",
              "      <th>23</th>\n",
              "      <th>24</th>\n",
              "      <th>25</th>\n",
              "      <th>26</th>\n",
              "      <th>27</th>\n",
              "    </tr>\n",
              "  </thead>\n",
              "  <tbody>\n",
              "    <tr>\n",
              "      <th>0</th>\n",
              "      <td>“Russian troops handed control of the Chernoby...</td>\n",
              "      <td>1509716281867571203</td>\n",
              "      <td>Fri Apr 01 02:16:25 +0000 2022</td>\n",
              "      <td>None</td>\n",
              "      <td>False</td>\n",
              "      <td>False</td>\n",
              "      <td>False</td>\n",
              "      <td>0</td>\n",
              "      <td>0</td>\n",
              "      <td>None</td>\n",
              "      <td>...</td>\n",
              "      <td>jdpaustin</td>\n",
              "      <td>17514</td>\n",
              "      <td>18814</td>\n",
              "      <td>134152</td>\n",
              "      <td>8</td>\n",
              "      <td>84593</td>\n",
              "      <td>Christian,Family,Vet,6th genTexan, rancher, at...</td>\n",
              "      <td>Austin - Giddings, Texas.</td>\n",
              "      <td>Thu Jul 19 20:30:00 +0000 2012</td>\n",
              "      <td>None</td>\n",
              "    </tr>\n",
              "    <tr>\n",
              "      <th>1</th>\n",
              "      <td>The last picture of a happy couple Anton &amp;amp;...</td>\n",
              "      <td>1509933994900660251</td>\n",
              "      <td>Fri Apr 01 16:41:32 +0000 2022</td>\n",
              "      <td>None</td>\n",
              "      <td>False</td>\n",
              "      <td>False</td>\n",
              "      <td>False</td>\n",
              "      <td>0</td>\n",
              "      <td>0</td>\n",
              "      <td>None</td>\n",
              "      <td>...</td>\n",
              "      <td>PerFeldvoss</td>\n",
              "      <td>195</td>\n",
              "      <td>1917</td>\n",
              "      <td>61140</td>\n",
              "      <td>1</td>\n",
              "      <td>10931</td>\n",
              "      <td>None</td>\n",
              "      <td>Denmark</td>\n",
              "      <td>Wed Jan 28 18:12:03 +0000 2015</td>\n",
              "      <td>None</td>\n",
              "    </tr>\n",
              "    <tr>\n",
              "      <th>2</th>\n",
              "      <td>⚡️ Energoatom: Russian occupiers leaving Chorn...</td>\n",
              "      <td>1509759842898128912</td>\n",
              "      <td>Fri Apr 01 05:09:31 +0000 2022</td>\n",
              "      <td>None</td>\n",
              "      <td>False</td>\n",
              "      <td>False</td>\n",
              "      <td>False</td>\n",
              "      <td>0</td>\n",
              "      <td>0</td>\n",
              "      <td>None</td>\n",
              "      <td>...</td>\n",
              "      <td>KeithWaddell5</td>\n",
              "      <td>108</td>\n",
              "      <td>393</td>\n",
              "      <td>12382</td>\n",
              "      <td>5</td>\n",
              "      <td>19949</td>\n",
              "      <td>Educationalist. Opinions are personal and my o...</td>\n",
              "      <td>Lusaka, Zambia</td>\n",
              "      <td>Sat Aug 20 13:28:37 +0000 2016</td>\n",
              "      <td>None</td>\n",
              "    </tr>\n",
              "  </tbody>\n",
              "</table>\n",
              "<p>3 rows × 28 columns</p>\n",
              "</div>\n",
              "      <button class=\"colab-df-convert\" onclick=\"convertToInteractive('df-724a14cc-c0d5-476b-84b7-6ed709ae5502')\"\n",
              "              title=\"Convert this dataframe to an interactive table.\"\n",
              "              style=\"display:none;\">\n",
              "        \n",
              "  <svg xmlns=\"http://www.w3.org/2000/svg\" height=\"24px\"viewBox=\"0 0 24 24\"\n",
              "       width=\"24px\">\n",
              "    <path d=\"M0 0h24v24H0V0z\" fill=\"none\"/>\n",
              "    <path d=\"M18.56 5.44l.94 2.06.94-2.06 2.06-.94-2.06-.94-.94-2.06-.94 2.06-2.06.94zm-11 1L8.5 8.5l.94-2.06 2.06-.94-2.06-.94L8.5 2.5l-.94 2.06-2.06.94zm10 10l.94 2.06.94-2.06 2.06-.94-2.06-.94-.94-2.06-.94 2.06-2.06.94z\"/><path d=\"M17.41 7.96l-1.37-1.37c-.4-.4-.92-.59-1.43-.59-.52 0-1.04.2-1.43.59L10.3 9.45l-7.72 7.72c-.78.78-.78 2.05 0 2.83L4 21.41c.39.39.9.59 1.41.59.51 0 1.02-.2 1.41-.59l7.78-7.78 2.81-2.81c.8-.78.8-2.07 0-2.86zM5.41 20L4 18.59l7.72-7.72 1.47 1.35L5.41 20z\"/>\n",
              "  </svg>\n",
              "      </button>\n",
              "      \n",
              "  <style>\n",
              "    .colab-df-container {\n",
              "      display:flex;\n",
              "      flex-wrap:wrap;\n",
              "      gap: 12px;\n",
              "    }\n",
              "\n",
              "    .colab-df-convert {\n",
              "      background-color: #E8F0FE;\n",
              "      border: none;\n",
              "      border-radius: 50%;\n",
              "      cursor: pointer;\n",
              "      display: none;\n",
              "      fill: #1967D2;\n",
              "      height: 32px;\n",
              "      padding: 0 0 0 0;\n",
              "      width: 32px;\n",
              "    }\n",
              "\n",
              "    .colab-df-convert:hover {\n",
              "      background-color: #E2EBFA;\n",
              "      box-shadow: 0px 1px 2px rgba(60, 64, 67, 0.3), 0px 1px 3px 1px rgba(60, 64, 67, 0.15);\n",
              "      fill: #174EA6;\n",
              "    }\n",
              "\n",
              "    [theme=dark] .colab-df-convert {\n",
              "      background-color: #3B4455;\n",
              "      fill: #D2E3FC;\n",
              "    }\n",
              "\n",
              "    [theme=dark] .colab-df-convert:hover {\n",
              "      background-color: #434B5C;\n",
              "      box-shadow: 0px 1px 3px 1px rgba(0, 0, 0, 0.15);\n",
              "      filter: drop-shadow(0px 1px 2px rgba(0, 0, 0, 0.3));\n",
              "      fill: #FFFFFF;\n",
              "    }\n",
              "  </style>\n",
              "\n",
              "      <script>\n",
              "        const buttonEl =\n",
              "          document.querySelector('#df-724a14cc-c0d5-476b-84b7-6ed709ae5502 button.colab-df-convert');\n",
              "        buttonEl.style.display =\n",
              "          google.colab.kernel.accessAllowed ? 'block' : 'none';\n",
              "\n",
              "        async function convertToInteractive(key) {\n",
              "          const element = document.querySelector('#df-724a14cc-c0d5-476b-84b7-6ed709ae5502');\n",
              "          const dataTable =\n",
              "            await google.colab.kernel.invokeFunction('convertToInteractive',\n",
              "                                                     [key], {});\n",
              "          if (!dataTable) return;\n",
              "\n",
              "          const docLinkHtml = 'Like what you see? Visit the ' +\n",
              "            '<a target=\"_blank\" href=https://colab.research.google.com/notebooks/data_table.ipynb>data table notebook</a>'\n",
              "            + ' to learn more about interactive tables.';\n",
              "          element.innerHTML = '';\n",
              "          dataTable['output_type'] = 'display_data';\n",
              "          await google.colab.output.renderOutput(dataTable, element);\n",
              "          const docLink = document.createElement('div');\n",
              "          docLink.innerHTML = docLinkHtml;\n",
              "          element.appendChild(docLink);\n",
              "        }\n",
              "      </script>\n",
              "    </div>\n",
              "  </div>\n",
              "  "
            ]
          },
          "metadata": {},
          "execution_count": 160
        }
      ]
    },
    {
      "cell_type": "code",
      "source": [
        "# Tweet Text at column 0\n",
        "df[0]"
      ],
      "metadata": {
        "colab": {
          "base_uri": "https://localhost:8080/"
        },
        "id": "uShE91ZWhtvM",
        "outputId": "e482d0f4-d85b-4b2a-9fcc-11d52a4657ce"
      },
      "execution_count": 174,
      "outputs": [
        {
          "output_type": "execute_result",
          "data": {
            "text/plain": [
              "0     “Russian troops handed control of the Chernoby...\n",
              "1     The last picture of a happy couple Anton &amp;...\n",
              "2     ⚡️ Energoatom: Russian occupiers leaving Chorn...\n",
              "3     One month before Russia invaded Ukraine, I sto...\n",
              "4     ⚡️ Bucha liberated by Ukraine, says mayor.  “M...\n",
              "5     Putin’s troops were destroyed, expelled, and/o...\n",
              "6     Did they mention that Hunter's partner from CE...\n",
              "7     Good to see, but the UK will need to do much m...\n",
              "8     Russian invasion takes Slava Vakarchuk to his ...\n",
              "9     It’s over for Russia. The inability to capture...\n",
              "10    This is the Belarusian battalion named after K...\n",
              "11    The world should not forget the humanitarian c...\n",
              "12    Just a reminder, tomorrows electricity price h...\n",
              "13    #Anonymous  Almost 500 Companies Have Withdraw...\n",
              "14    RT @Financialjuice1: RUSSIA CONFIRMS TALKS WIT...\n",
              "15    @BNONews So Ukraine instigating Russia into a ...\n",
              "16    It is strange that the West's right-wing respe...\n",
              "17    Russia’s war of aggression against #Ukraine is...\n",
              "18    The BBC’s 6pm News has wheeled out Hugh Pym fo...\n",
              "19    On the Fishie Capillo show, she's promoting th...\n",
              "20    The media made a bigger controversy out of Bid...\n",
              "21    I am glad to welcome @EP_President in Kyiv! Th...\n",
              "22    Breaking News:  Putin complains about Ukrainia...\n",
              "23    At 10PM ET, our Twitter Space will be conducti...\n",
              "24    Ukraine's ambassador to #UnitedNations is read...\n",
              "25    The U.S. learned its World Cup schedule at the...\n",
              "26    The world must #AllowAccessToTigray now &gt;6 ...\n",
              "27    RT @JanGold_: Via Clever Tactics, Putin Gets H...\n",
              "28    When you watch these videos, remember that 1 o...\n",
              "29    RT @SamRamani2: Dmitri Medvedev just accused P...\n",
              "30    🕊️The #FlagNetwork Charity Foundation would li...\n",
              "Name: 0, dtype: object"
            ]
          },
          "metadata": {},
          "execution_count": 174
        }
      ]
    },
    {
      "cell_type": "code",
      "source": [
        "# lowercase conversion\n",
        "df[0] = df[0].str.lower()"
      ],
      "metadata": {
        "id": "fiENuSXOhYIE"
      },
      "execution_count": 175,
      "outputs": []
    },
    {
      "cell_type": "code",
      "source": [
        "df[0].head(5)"
      ],
      "metadata": {
        "colab": {
          "base_uri": "https://localhost:8080/"
        },
        "id": "CSMKEB08gaG4",
        "outputId": "e1b39ded-1ba2-4742-8296-36bc6770d513"
      },
      "execution_count": 178,
      "outputs": [
        {
          "output_type": "execute_result",
          "data": {
            "text/plain": [
              "0    “russian troops handed control of the chernoby...\n",
              "1    the last picture of a happy couple anton &amp;...\n",
              "2    ⚡️ energoatom: russian occupiers leaving chorn...\n",
              "3    one month before russia invaded ukraine, i sto...\n",
              "4    ⚡️ bucha liberated by ukraine, says mayor.  “m...\n",
              "Name: 0, dtype: object"
            ]
          },
          "metadata": {},
          "execution_count": 178
        }
      ]
    },
    {
      "cell_type": "code",
      "source": [
        "# replace emojis with meaning\n",
        "df[0] = df[0].progress_apply(lambda text: emo2text(text))"
      ],
      "metadata": {
        "colab": {
          "base_uri": "https://localhost:8080/",
          "height": 49,
          "referenced_widgets": [
            "c54cd4da5a81407f9cf377cc12ef91f2",
            "8a76bb6d809c432b91cbe5089df2bad7",
            "e648c1d10f764283aa54d57cf0b078d2",
            "27b0c09944d54e658d37f5824ac51ba7",
            "dcec854eb2054bb79ca777851a68fbc9",
            "9f0442524e884cc9b2da0fa63a25d570",
            "b3b8ba49c8fa45cc8885cb473c1a2518",
            "341303b7affb4b8c9fac2ce5198722f1",
            "4470a9a0232f46ed8b619f4be15657bc",
            "521b0a9808c44f5da2fc22907ff3168a",
            "894e29fe67bf465f819cfbe5c48aab69"
          ]
        },
        "id": "egP2R7vpiWjy",
        "outputId": "84a9b05a-c4c7-45bc-e2f3-28434f6e3dcf"
      },
      "execution_count": 189,
      "outputs": [
        {
          "output_type": "display_data",
          "data": {
            "text/plain": [
              "  0%|          | 0/31 [00:00<?, ?it/s]"
            ],
            "application/vnd.jupyter.widget-view+json": {
              "version_major": 2,
              "version_minor": 0,
              "model_id": "c54cd4da5a81407f9cf377cc12ef91f2"
            }
          },
          "metadata": {}
        }
      ]
    },
    {
      "cell_type": "code",
      "source": [
        "df[0].head(5)"
      ],
      "metadata": {
        "colab": {
          "base_uri": "https://localhost:8080/"
        },
        "id": "Aey_8LYJkg26",
        "outputId": "8e739482-4b3b-4797-de54-4498f212f544"
      },
      "execution_count": 185,
      "outputs": [
        {
          "output_type": "execute_result",
          "data": {
            "text/plain": [
              "0    “russian troops handed control of the chernoby...\n",
              "1    the last picture of a happy couple anton &amp;...\n",
              "2    :high_voltage:️ energoatom: russian occupiers ...\n",
              "3    one month before russia invaded ukraine, i sto...\n",
              "4    :high_voltage:️ bucha liberated by ukraine, sa...\n",
              "Name: 0, dtype: object"
            ]
          },
          "metadata": {},
          "execution_count": 185
        }
      ]
    },
    {
      "cell_type": "code",
      "source": [
        "# clean hastags urls and mentions\n",
        "df[0] = df[0].progress_apply(lambda text: clean_tweet(text))"
      ],
      "metadata": {
        "colab": {
          "base_uri": "https://localhost:8080/",
          "height": 49,
          "referenced_widgets": [
            "1bd9d674e2954dcabebac76a5356f00a",
            "21b7502045b341d4ae09f0cb02935a2b",
            "da3c0e8049bb493f99ebeb9f7e89d84b",
            "11755422de5347488b08216dfdd39515",
            "13c508e37e1748d094b458a094a38ab0",
            "32fdba86a1fd46ae9a5a0489cf7718ba",
            "244405c13ed443649f0f2c0d5bfc7be8",
            "6dabeb13df6e40d686c42ac16190ac48",
            "83f222ef9cc04fdea77182bb20bf3ad4",
            "071603cc647142189f2c6d7ae6675ec1",
            "78f0f737d21c47f2bb70d229a1bd1fa3"
          ]
        },
        "id": "STrRyKC7iXxY",
        "outputId": "58ffe82f-1a1a-41b2-b18d-a7b1df167511"
      },
      "execution_count": 188,
      "outputs": [
        {
          "output_type": "display_data",
          "data": {
            "text/plain": [
              "  0%|          | 0/31 [00:00<?, ?it/s]"
            ],
            "application/vnd.jupyter.widget-view+json": {
              "version_major": 2,
              "version_minor": 0,
              "model_id": "1bd9d674e2954dcabebac76a5356f00a"
            }
          },
          "metadata": {}
        }
      ]
    },
    {
      "cell_type": "code",
      "source": [
        "df[0].head(5)"
      ],
      "metadata": {
        "colab": {
          "base_uri": "https://localhost:8080/"
        },
        "id": "LCwuyceyki00",
        "outputId": "e63c8fc2-f520-42a6-943e-7531afb18d5e"
      },
      "execution_count": 187,
      "outputs": [
        {
          "output_type": "execute_result",
          "data": {
            "text/plain": [
              "0    “russian troops handed control of the chernoby...\n",
              "1    the last picture of a happy couple anton &amp;...\n",
              "2    :high_voltage:️ energoatom: russian occupiers ...\n",
              "3    one month before russia invaded ukraine, i sto...\n",
              "4    :high_voltage:️ bucha liberated by ukraine, sa...\n",
              "Name: 0, dtype: object"
            ]
          },
          "metadata": {},
          "execution_count": 187
        }
      ]
    },
    {
      "cell_type": "markdown",
      "source": [
        "## Save DataFrame as tsv"
      ],
      "metadata": {
        "id": "Oj7sgCgHqO-s"
      }
    },
    {
      "cell_type": "markdown",
      "source": [
        "Now we have preprocess the raw data into desired format then, we can save the file to avoid repeating these steps.\n",
        "\n",
        "seperator recommended as \\t tab character because the text may have lots of comma causes inconvenience parsing"
      ],
      "metadata": {
        "id": "o0NEfX5wkxrj"
      }
    },
    {
      "cell_type": "code",
      "source": [
        "df.to_csv('./PATH/FILE_NAME.tsv', sep='\\t', index=False)"
      ],
      "metadata": {
        "id": "9gq7EQj9lKAG"
      },
      "execution_count": null,
      "outputs": []
    }
  ]
}